{
 "cells": [
  {
   "cell_type": "code",
   "execution_count": 1,
   "metadata": {},
   "outputs": [],
   "source": [
    "import torch\n",
    "import torchvision\n",
    "import numpy as np\n",
    "import torch.nn as nn\n",
    "from PIL import Image\n",
    "import torch.optim as optim\n",
    "import matplotlib.pyplot as plt\n",
    "import torch.nn.functional as F\n",
    "from torch.autograd import Variable\n",
    "import torchvision.datasets as datasets\n",
    "import torchvision.transforms as transforms"
   ]
  },
  {
   "cell_type": "code",
   "execution_count": 2,
   "metadata": {},
   "outputs": [],
   "source": [
    "# Setting up the directories to read the data\n",
    "train_directory = 'root/train'\n",
    "test_directory = 'root/test'"
   ]
  },
  {
   "cell_type": "code",
   "execution_count": 3,
   "metadata": {},
   "outputs": [
    {
     "name": "stdout",
     "output_type": "stream",
     "text": [
      "Enter batch size. 4\n",
      "Classes:  ['1', '10', '2', '3', '4', '5', '6', '7', '8', '9']\n"
     ]
    }
   ],
   "source": [
    "def loadTrainTest(train_dir, test_dir, batch_size):\n",
    "    # Transformation for image transforms.Grayscale(1), \n",
    "    transformation = transforms.Compose([ transforms.Grayscale(1),\n",
    "                                             transforms.Resize((28,28)),\n",
    "                                                 transforms.ToTensor(), \n",
    "                                                        transforms.Normalize((0.5, ), (0.5, ))])\n",
    "   # transformation1 = transforms.Compose([transforms.Resize(28),\n",
    "                                          #transforms.Grayscale(), transforms.ToTensor(), \n",
    "                                     #transforms.Normalize((0.5, ), (0.5, ))])\n",
    "    \n",
    "    # Load train and test dataset with ImageFolder\n",
    "    train_dataset = datasets.ImageFolder(root = train_dir, \n",
    "                                         transform = transformation)\n",
    "    test_dataset = datasets.ImageFolder(root = test_dir, \n",
    "                                        transform = transformation)\n",
    "    \n",
    "    # Load train and test dataset into batches\n",
    "    trainloader = torch.utils.data.DataLoader(dataset = train_dataset, \n",
    "                                         batch_size = batch_size,\n",
    "                                         shuffle = True)\n",
    "    testloader = torch.utils.data.DataLoader(dataset = test_dataset, \n",
    "                                         batch_size = batch_size,\n",
    "                                         shuffle = True)\n",
    "    return trainloader, testloader, train_dataset.classes\n",
    "\n",
    "\n",
    "batch_size = int(input('Enter batch size. '))\n",
    "train_load, test_load, classes = loadTrainTest(train_directory, test_directory, batch_size)\n",
    "\n",
    "print('Classes: ', classes) # print number of classes"
   ]
  },
  {
   "cell_type": "code",
   "execution_count": 4,
   "metadata": {},
   "outputs": [
    {
     "data": {
      "image/png": "[encoded data removed]",
      "text/plain": [
       "<Figure size 720x720 with 1 Axes>"
      ]
     },
     "metadata": {
      "needs_background": "light"
     },
     "output_type": "display_data"
    }
   ],
   "source": [
    "def imshow(image):\n",
    "    if isinstance(image, torch.Tensor):\n",
    "        image = image.numpy().transpose((1, 2, 0))  \n",
    "    else:\n",
    "        image = np.array(image).transpose((1, 2, 0))\n",
    "    # unnormalize\n",
    "    image = 0.5*image + 0.5\n",
    "    # Plot\n",
    "    \n",
    "    plt.figure(figsize=(10,10))\n",
    "    plt.imshow(image)\n",
    "    \n",
    "    \n",
    "# get some random training images\n",
    "images, labels = next(iter(train_load))\n",
    "imshow(torchvision.utils.make_grid(images))  # show images"
   ]
  },
  {
   "cell_type": "code",
   "execution_count": null,
   "metadata": {},
   "outputs": [],
   "source": []
  },
  {
   "cell_type": "code",
   "execution_count": 5,
   "metadata": {},
   "outputs": [
    {
     "name": "stdout",
     "output_type": "stream",
     "text": [
      "SimpleNet(\n",
      "  (fc1): Linear(in_features=784, out_features=84, bias=True)\n",
      "  (fc2): Linear(in_features=84, out_features=50, bias=True)\n",
      "  (fc3): Linear(in_features=50, out_features=10, bias=True)\n",
      ")\n"
     ]
    }
   ],
   "source": [
    "class SimpleNet(nn.Module):\n",
    "    def __init__(self):\n",
    "        super(SimpleNet, self).__init__()\n",
    "        self.fc1 = nn.Linear(1*28*28, 84)\n",
    "        self.fc2 = nn.Linear(84, 50)\n",
    "        self.fc3 = nn.Linear(50,10)\n",
    "        \n",
    "    def forward(self, x):\n",
    "        x = x.view(-1, 1*28*28)\n",
    "        x = F.relu(self.fc1(x))\n",
    "        x = F.relu(self.fc2(x))\n",
    "        x = self.fc3(x)\n",
    "        return x\n",
    "model = SimpleNet()\n",
    "print(model)"
   ]
  },
  {
   "cell_type": "code",
   "execution_count": 6,
   "metadata": {},
   "outputs": [
    {
     "name": "stdout",
     "output_type": "stream",
     "text": [
      " Write the type of loss function you want. \n",
      "                        'entropy' for CrossEntropyLoss \n",
      "                        'nll' for NLLLoss \n",
      "entropy\n",
      "\n",
      "Write the type of optimizer function you want.\n",
      "                        'sgd' for SGD \n",
      "                        'adam' for Adam\n",
      "                        'rms' for RMSprop\n",
      "                        'adagrad' for Adagrad \n",
      "sgd\n",
      "\n",
      "Selected loss function: entropy \n",
      "Selected optimizer function: sgd\n"
     ]
    }
   ],
   "source": [
    "def lossAndoptimizer(ls, op, lr = 1e-2):\n",
    "    loss_func = {'entropy' : nn.CrossEntropyLoss(), \n",
    "                         'nll': nn.NLLLoss() }\n",
    "    \n",
    "    optimizer_func = {'sgd': optim.SGD(model.parameters(), lr), \n",
    "                          'adam': optim.Adam(model.parameters(), lr),\n",
    "                             'adagrad': optim.Adagrad(model.parameters(), lr),\n",
    "                                 'rms': optim.RMSprop(model.parameters(), lr) }\n",
    "    \n",
    "    return loss_func[ls], optimizer_func[op]\n",
    "\n",
    "\n",
    "loss_f = input(''' Write the type of loss function you want. \n",
    "                        'entropy' for CrossEntropyLoss \n",
    "                        'nll' for NLLLoss \\n''')\n",
    "\n",
    "print()\n",
    "optimizer_f = input('''Write the type of optimizer function you want.\n",
    "                        'sgd' for SGD \n",
    "                        'adam' for Adam\n",
    "                        'rms' for RMSprop\n",
    "                        'adagrad' for Adagrad \\n''')\n",
    "\n",
    "print(f'\\nSelected loss function: {loss_f} \\nSelected optimizer function: {optimizer_f}')\n",
    "criterion, optimizer = lossAndoptimizer(loss_f, optimizer_f)"
   ]
  },
  {
   "cell_type": "code",
   "execution_count": null,
   "metadata": {},
   "outputs": [
    {
     "name": "stdout",
     "output_type": "stream",
     "text": [
      "Enter the number of epochs. 20\n",
      "\n",
      "Training started.......\n",
      "\n",
      "ephoch 1, loss 2.2674\n",
      "-----------------------\n",
      "ephoch 2, loss 2.0279\n",
      "-----------------------\n",
      "ephoch 3, loss 1.4064\n",
      "-----------------------\n",
      "ephoch 4, loss 1.0002\n",
      "-----------------------\n",
      "ephoch 5, loss 0.3630\n",
      "-----------------------\n",
      "ephoch 6, loss 0.6165\n",
      "-----------------------\n"
     ]
    }
   ],
   "source": [
    "def train_model(trainload, criteria, optimizer, epochs):\n",
    "    print('\\nTraining started.......\\n')\n",
    "    for epoch in range(epochs):  # loop over the dataset multiple times\n",
    "        running_loss = 0.0       # Set the running loss at each epoch to zero\n",
    "        for i, data in enumerate(trainload):\n",
    "            inputs, labels = data  # get the inputs; data is a list of [inputs, labels]\n",
    "            optimizer.zero_grad()  # clear the gradient\n",
    "            outputs = model(inputs) # feed the input and acquire the output from network\n",
    "            loss = criterion(outputs, labels) # calculating the predicted and the expected loss\n",
    "            loss.backward()    # Backpropagation\n",
    "            optimizer.step()    # update the parameters\n",
    "            # print statistics\n",
    "            running_loss += loss.item()\n",
    "            if i % 2000 == 0: # print every 2000 mini-batches\n",
    "                print(f\"ephoch {epoch + 1}, loss {loss.item():.4f}\")\n",
    "                print('-----------------------')\n",
    "    print('\\nFinished Training!')\n",
    "    return model\n",
    "    \n",
    "epochs = int(input('Enter the number of epochs. '))    \n",
    "model = train_model(train_load, criterion, optimizer, epochs)"
   ]
  },
  {
   "cell_type": "code",
   "execution_count": null,
   "metadata": {},
   "outputs": [],
   "source": [
    "\"\"\" \n",
    "get some random testing images\n",
    "make an iterator from test_loader\n",
    "Get a batch of training images\n",
    "\"\"\"\n",
    "images, labels = next(iter(test_load))\n",
    "\n",
    "# print images and labels\n",
    "imshow(torchvision.utils.make_grid(images))\n",
    "print('GroundTruth: ', ' '.join('%5s' % classes[labels[j]] for j in range(batch_size)))"
   ]
  },
  {
   "cell_type": "code",
   "execution_count": null,
   "metadata": {},
   "outputs": [],
   "source": [
    "results = model(images)\n",
    "_, predicted = torch.max(results, 1)\n",
    "\n",
    "print('Predicted: ', ' '.join('%5s' % classes[predicted[j]] for j in range(batch_size)))\n",
    "\n",
    "fig2 = plt.figure()\n",
    "plt.subplots_adjust(top = 0.99)\n",
    "for i in range(batch_size):\n",
    "    fig2.add_subplot(2,2, i+1)\n",
    "    plt.title('truth ' + classes[labels[i]] + ': predict ' + classes[predicted[i]])\n",
    "    img = images[i] / 2 + 0.5     # this is to unnormalize the image\n",
    "    img = torchvision.transforms.ToPILImage()(img)\n",
    "    plt.imshow(img)\n",
    "plt.show()"
   ]
  },
  {
   "cell_type": "code",
   "execution_count": null,
   "metadata": {},
   "outputs": [],
   "source": [
    "# Network performance\n",
    "def accuracy(model, test_load):\n",
    "    correct = 0\n",
    "    total = 0\n",
    "    with torch.no_grad():\n",
    "        for data in test_load:\n",
    "            images, labels = data\n",
    "            outputs = model(images)\n",
    "            _, predicted = torch.max(outputs.data, 1)\n",
    "            total += labels.size(0)\n",
    "            correct += (predicted == labels).sum().item()\n",
    "    return 100 * correct / total, correct, total\n",
    "\n",
    "acc, correct, total  = accuracy(model, test_load)\n",
    "print(f'Accuracy of the network on the {total} test images is: {acc}')\n",
    "print(f'{correct} images out of {total} are correctly predicted')"
   ]
  },
  {
   "cell_type": "markdown",
   "metadata": {},
   "source": [
    "#### Comparison b/n different loss and optimizer\n",
    "| epoch |Loss  | Optimizer | Accuracy |\n",
    "|:------|:-----------:|:----------:|:------|\n",
    "|20|CrossEntropyLoss|SGD|35.23809523809524|\n",
    "|20|CrossEntropyLoss|Adam|39.04761904761905|\n",
    "|20|CrossEntropyLoss|RMSprop|37.142857142857146|\n",
    "|20|CrossEntropyLoss|Adagrad|38.095238095238095|\n",
    "|20|NLLLoss|SGD|42.38095238095238|\n",
    "|20|NLLLoss|Adam|27.142857142857142|\n",
    "|20|NLLLoss|RMSprop|24.285714285714285|\n",
    "|20|NLLLoss|Adagrad|29.523809523809526|"
   ]
  },
  {
   "cell_type": "code",
   "execution_count": null,
   "metadata": {},
   "outputs": [],
   "source": []
  }
 ],
 "metadata": {
  "kernelspec": {
   "display_name": "Python 3",
   "language": "python",
   "name": "python3"
  },
  "language_info": {
   "codemirror_mode": {
    "name": "ipython",
    "version": 3
   },
   "file_extension": ".py",
   "mimetype": "text/x-python",
   "name": "python",
   "nbconvert_exporter": "python",
   "pygments_lexer": "ipython3",
   "version": "3.8.3"
  }
 },
 "nbformat": 4,
 "nbformat_minor": 4
}
